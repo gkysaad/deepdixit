{
 "cells": [
  {
   "cell_type": "code",
   "execution_count": 1,
   "id": "35bdf5b7",
   "metadata": {
    "scrolled": true
   },
   "outputs": [
    {
     "name": "stdout",
     "output_type": "stream",
     "text": [
      "DL-Lite: Tractable Description Logics for Ontologies\n",
      "QUICKXPLAIN: Preferred Explanations and Relaxations for Over-Constrained Problems\n",
      "Content-Boosted Collaborative Filtering for Improved Recommendations\n",
      "D*Lite\n",
      "PROMPT: Algorithm and Tool for Automated Ontology Merging and Alignment\n",
      "Monte Carlo Localization: Efficient Position Estimation for Mobile Robots\n",
      "Combining Collaborative Filtering with Personal Agents for Better Recommendations\n",
      "Learning Dictionaries for Information Extraction by Multi-Level Bootstrapping\n",
      "The Interactive Museum Tour-Guide Robot\n",
      "Boosting Combinatorial Search through Randomization\n",
      "Statistical Parsing with a Context-Free Grammar and Word Statistics\n",
      "Using CSP Look-Back Techniques to Solve Real-World SAT Instances\n",
      "Syskill & Webert: Identifying Interesting Web Sites\n",
      "Estimating the Absolute Position of a Mobile Robot Using Position Probability Grids\n",
      "Pushing the Envelope: Planning, Propositional Logic, and Stochastic Search\n",
      "A Filtering Algorithm for Constraints of Difference in CSPs\n",
      "Acting Optimally in Partially Observable Stochastic Domains\n",
      "Learning Interface Agents\n",
      "Arc-Consistency and Arc-Consistency Again\n",
      "Automatically Constructing a Dictionary for Information Extraction Tasks\n",
      "Hard and Easy Distribution of SAT Problems\n",
      "A New Method for Solving Hard Satisfiability Problems\n",
      "Systematic Nonlinear Planning\n",
      "Solving Large-Scale Constraint Satisfaction and Scheduling Problems Using a Heuristic Repair Method\n",
      "Learning to Coordinate Behaviors\n",
      "Bayesian Classification\n",
      "A Robust, Qualitative Method for Robot Spatial Learning\n",
      "Pengi: An Implementation of a Theory of Activity\n",
      "Reactive Reasoning and Planning\n",
      "The Logic of Representing Dependencies by Directed Graphs\n",
      "Real-Time Heuristic Search: First Results\n",
      "Quantifying the Inductive Bias in Concept Learning (extended abstract)\n",
      "Default Reasoning, Nonmonotonic Logics, and the Frame Problem\n",
      "A Logic of Implicit and Explicit Belief\n",
      "A Theory of Action for MultiAgent Planning\n",
      "The Tractability of Subsumption in Frame-Based Description Languages\n",
      "A Variational Approach to Edge Detection\n",
      "Reverend Bayes on Inference Engines: A Distributed Hierarchical Approach\n",
      "R1: An Expert in the Computer Systems Domain\n"
     ]
    }
   ],
   "source": [
    "import requests\n",
    "import bs4\n",
    "url = 'https://aaai.org/Awards/classic.php'\n",
    "response = requests.get(url)\n",
    "soup = bs4.BeautifulSoup(response.text)\n",
    "\n",
    "first_paper_title = soup.find_all('li')[17].text.split('\\n')[1].strip() # First paper listed doesn't have a link\n",
    "paper_titles = [first_paper_title] + [a.text.strip() for a in soup.find('div', {'class': 'content'}).find_all('a')[2:]]\n",
    "paper_titles = [p[:-1] if p.endswith(',') else p for p in paper_titles]\n",
    "\n",
    "for paper in paper_titles:\n",
    "    print(paper)"
   ]
  }
 ],
 "metadata": {
  "kernelspec": {
   "display_name": "Python 3",
   "language": "python",
   "name": "python3"
  },
  "language_info": {
   "codemirror_mode": {
    "name": "ipython",
    "version": 3
   },
   "file_extension": ".py",
   "mimetype": "text/x-python",
   "name": "python",
   "nbconvert_exporter": "python",
   "pygments_lexer": "ipython3",
   "version": "3.7.9"
  }
 },
 "nbformat": 4,
 "nbformat_minor": 5
}
